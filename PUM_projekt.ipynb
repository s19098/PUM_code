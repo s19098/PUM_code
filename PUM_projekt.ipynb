{
  "cells": [
    {
      "cell_type": "code",
      "execution_count": null,
      "metadata": {
        "colab": {
          "base_uri": "https://localhost:8080/"
        },
        "id": "muKzig9iLcK2",
        "outputId": "cc79e10b-2c59-444d-aa8c-4d67459e5f3f"
      },
      "outputs": [],
      "source": [
        "#instalacja i importowanie potrzebnych bibliotek\n",
        "!pip install fastbook\n",
        "import fastbook\n",
        "from fastbook import *\n",
        "from fastai.vision.widgets import *\n",
        "from IPython.core.pylabtools import figsize"
      ]
    },
    {
      "cell_type": "code",
      "execution_count": null,
      "metadata": {
        "colab": {
          "base_uri": "https://localhost:8080/"
        },
        "id": "hncOkD-kLenU",
        "outputId": "9d0f201d-47f0-44fe-ea95-fd4556e5b5b2"
      },
      "outputs": [],
      "source": [
        "#łączenie się z dyskiem googla i pobieranie odpowiednich obrazów z sieci\n",
        "#pobrane obrazy należy ręcznie przefiltrować (usunąć błędy w pobranych obrazach lub nieodpowiednie dla kategorii zdjęcia)\n",
        "import os\n",
        "from google.colab import drive\n",
        "drive.mount('/content/drive')\n",
        "os.chdir('/content/drive/My Drive/dataSet')\n",
        "path = Path('/content/drive/My Drive/dataSet')\n",
        "\n",
        "klasy = 'Wolf', 'Lynx', 'Moose', 'Deer', 'Boar'\n",
        "path = Path('Projekt_PUM_1')\n",
        "if not path.exists(): \n",
        "  path.mkdir()\n",
        "  for o in klasy:\n",
        "    dest = (path/o)\n",
        "    dest.mkdir(exist_ok=True)\n",
        "    urls = search_images_ddg(f' {o} animals', max_images=110)\n",
        "    download_images(dest, urls=urls)\n"
      ]
    },
    {
      "cell_type": "code",
      "execution_count": null,
      "metadata": {
        "id": "F_QMukZOHixN"
      },
      "outputs": [],
      "source": [
        "classes = ['Wolf', 'Lynx', 'Moose', 'Deer', 'Boar']"
      ]
    },
    {
      "cell_type": "code",
      "execution_count": null,
      "metadata": {
        "id": "YbqaGL6DLlqx"
      },
      "outputs": [],
      "source": [
        "#tworzenie DataBlock\n",
        "data = DataBlock(\n",
        "    blocks=(ImageBlock, CategoryBlock),\n",
        "    get_items=get_image_files,\n",
        "    splitter=RandomSplitter(valid_pct=0.2,seed=42),\n",
        "    get_y=parent_label,\n",
        "    item_tfms=Resize(128)\n",
        ")"
      ]
    },
    {
      "cell_type": "code",
      "execution_count": null,
      "metadata": {
        "id": "yFIpikPkLooW"
      },
      "outputs": [],
      "source": [
        "#Batch size = 32, num_workers = 0\n",
        "data = data.new(\n",
        "    item_tfms=RandomResizedCrop(224, min_scale=0.5),\n",
        "    batch_tfms=aug_transforms(max_rotate=2.0, p_affine=0.5)\n",
        ")\n",
        "dls = data.dataloaders(path, bs = 32, num_workers = 0)"
      ]
    },
    {
      "cell_type": "code",
      "execution_count": null,
      "metadata": {
        "colab": {
          "base_uri": "https://localhost:8080/",
          "height": 66,
          "referenced_widgets": [
            "5074bcc14200465ebeec81ed97e720f0",
            "6f4dc14ea9e64f66968ea8a253250c64",
            "37d14e4dbfda447fa3fdee7d345dd0f5",
            "a474a544694348cc891d6d016a57b389",
            "7e048264ed434d1c9b30ff4a265af17c",
            "f5e3c56db86d49a39a2e3a6b073135b8",
            "64381a9268ea4e3fa0bdbdee64886532",
            "9efa5cabe8e44adab9471afc93ab846b",
            "c5bb84b2e1084db1a07fb87f16a8f00d",
            "4c05735dffc6448d893a1cb56dac3900",
            "06c989a3b8ec4611aa7ffa4b29834f58"
          ]
        },
        "id": "nSeJttUMLqt0",
        "outputId": "eb91384d-a292-45e3-be4c-4cb96af2992f"
      },
      "outputs": [],
      "source": [
        "#tworzenie konwolucyjnej sieci neuronowej oraz określanie architekruty, w tym przypadku 'alexnet'\n",
        "learn = vision_learner(dls, alexnet, metrics=accuracy)"
      ]
    },
    {
      "cell_type": "code",
      "execution_count": null,
      "metadata": {
        "colab": {
          "base_uri": "https://localhost:8080/",
          "height": 1000
        },
        "id": "WVTIU1kFLsGS",
        "outputId": "e4299e66-b354-4fd0-dee1-824adf325894"
      },
      "outputs": [],
      "source": [
        "#trenowanie modelu, 10 epok, earlystopping, patience = 5\n",
        "#ustawianie najlepszego zakresu dla learning rate\n",
        "learn.fit(10, cbs = [SaveModelCallback(), EarlyStoppingCallback(patience=5)])\n",
        "learn.save('stage-1')\n",
        "\n",
        "learn.lr_find()\n",
        "\n",
        "learn.fit(10, 10e-1, cbs = [SaveModelCallback(), EarlyStoppingCallback(patience=5)])\n",
        "learn.save('stage-2') "
      ]
    },
    {
      "cell_type": "code",
      "execution_count": null,
      "metadata": {
        "id": "G23aO3INLtzm"
      },
      "outputs": [],
      "source": [
        "#exportowanie modelu\n",
        "learn.export(fname='model.pkl')"
      ]
    }
  ],
  "metadata": {
    "colab": {
      "name": "Untitled",
      "provenance": []
    },
    "kernelspec": {
      "display_name": "Python 3",
      "name": "python3"
    },
    "language_info": {
      "name": "python"
    },
    "widgets": {
      "application/vnd.jupyter.widget-state+json": {
        "06c989a3b8ec4611aa7ffa4b29834f58": {
          "model_module": "@jupyter-widgets/controls",
          "model_module_version": "1.5.0",
          "model_name": "DescriptionStyleModel",
          "state": {
            "_model_module": "@jupyter-widgets/controls",
            "_model_module_version": "1.5.0",
            "_model_name": "DescriptionStyleModel",
            "_view_count": null,
            "_view_module": "@jupyter-widgets/base",
            "_view_module_version": "1.2.0",
            "_view_name": "StyleView",
            "description_width": ""
          }
        },
        "37d14e4dbfda447fa3fdee7d345dd0f5": {
          "model_module": "@jupyter-widgets/controls",
          "model_module_version": "1.5.0",
          "model_name": "FloatProgressModel",
          "state": {
            "_dom_classes": [],
            "_model_module": "@jupyter-widgets/controls",
            "_model_module_version": "1.5.0",
            "_model_name": "FloatProgressModel",
            "_view_count": null,
            "_view_module": "@jupyter-widgets/controls",
            "_view_module_version": "1.5.0",
            "_view_name": "ProgressView",
            "bar_style": "success",
            "description": "",
            "description_tooltip": null,
            "layout": "IPY_MODEL_9efa5cabe8e44adab9471afc93ab846b",
            "max": 244408911,
            "min": 0,
            "orientation": "horizontal",
            "style": "IPY_MODEL_c5bb84b2e1084db1a07fb87f16a8f00d",
            "value": 244408911
          }
        },
        "4c05735dffc6448d893a1cb56dac3900": {
          "model_module": "@jupyter-widgets/base",
          "model_module_version": "1.2.0",
          "model_name": "LayoutModel",
          "state": {
            "_model_module": "@jupyter-widgets/base",
            "_model_module_version": "1.2.0",
            "_model_name": "LayoutModel",
            "_view_count": null,
            "_view_module": "@jupyter-widgets/base",
            "_view_module_version": "1.2.0",
            "_view_name": "LayoutView",
            "align_content": null,
            "align_items": null,
            "align_self": null,
            "border": null,
            "bottom": null,
            "display": null,
            "flex": null,
            "flex_flow": null,
            "grid_area": null,
            "grid_auto_columns": null,
            "grid_auto_flow": null,
            "grid_auto_rows": null,
            "grid_column": null,
            "grid_gap": null,
            "grid_row": null,
            "grid_template_areas": null,
            "grid_template_columns": null,
            "grid_template_rows": null,
            "height": null,
            "justify_content": null,
            "justify_items": null,
            "left": null,
            "margin": null,
            "max_height": null,
            "max_width": null,
            "min_height": null,
            "min_width": null,
            "object_fit": null,
            "object_position": null,
            "order": null,
            "overflow": null,
            "overflow_x": null,
            "overflow_y": null,
            "padding": null,
            "right": null,
            "top": null,
            "visibility": null,
            "width": null
          }
        },
        "5074bcc14200465ebeec81ed97e720f0": {
          "model_module": "@jupyter-widgets/controls",
          "model_module_version": "1.5.0",
          "model_name": "HBoxModel",
          "state": {
            "_dom_classes": [],
            "_model_module": "@jupyter-widgets/controls",
            "_model_module_version": "1.5.0",
            "_model_name": "HBoxModel",
            "_view_count": null,
            "_view_module": "@jupyter-widgets/controls",
            "_view_module_version": "1.5.0",
            "_view_name": "HBoxView",
            "box_style": "",
            "children": [
              "IPY_MODEL_6f4dc14ea9e64f66968ea8a253250c64",
              "IPY_MODEL_37d14e4dbfda447fa3fdee7d345dd0f5",
              "IPY_MODEL_a474a544694348cc891d6d016a57b389"
            ],
            "layout": "IPY_MODEL_7e048264ed434d1c9b30ff4a265af17c"
          }
        },
        "64381a9268ea4e3fa0bdbdee64886532": {
          "model_module": "@jupyter-widgets/controls",
          "model_module_version": "1.5.0",
          "model_name": "DescriptionStyleModel",
          "state": {
            "_model_module": "@jupyter-widgets/controls",
            "_model_module_version": "1.5.0",
            "_model_name": "DescriptionStyleModel",
            "_view_count": null,
            "_view_module": "@jupyter-widgets/base",
            "_view_module_version": "1.2.0",
            "_view_name": "StyleView",
            "description_width": ""
          }
        },
        "6f4dc14ea9e64f66968ea8a253250c64": {
          "model_module": "@jupyter-widgets/controls",
          "model_module_version": "1.5.0",
          "model_name": "HTMLModel",
          "state": {
            "_dom_classes": [],
            "_model_module": "@jupyter-widgets/controls",
            "_model_module_version": "1.5.0",
            "_model_name": "HTMLModel",
            "_view_count": null,
            "_view_module": "@jupyter-widgets/controls",
            "_view_module_version": "1.5.0",
            "_view_name": "HTMLView",
            "description": "",
            "description_tooltip": null,
            "layout": "IPY_MODEL_f5e3c56db86d49a39a2e3a6b073135b8",
            "placeholder": "​",
            "style": "IPY_MODEL_64381a9268ea4e3fa0bdbdee64886532",
            "value": "100%"
          }
        },
        "7e048264ed434d1c9b30ff4a265af17c": {
          "model_module": "@jupyter-widgets/base",
          "model_module_version": "1.2.0",
          "model_name": "LayoutModel",
          "state": {
            "_model_module": "@jupyter-widgets/base",
            "_model_module_version": "1.2.0",
            "_model_name": "LayoutModel",
            "_view_count": null,
            "_view_module": "@jupyter-widgets/base",
            "_view_module_version": "1.2.0",
            "_view_name": "LayoutView",
            "align_content": null,
            "align_items": null,
            "align_self": null,
            "border": null,
            "bottom": null,
            "display": null,
            "flex": null,
            "flex_flow": null,
            "grid_area": null,
            "grid_auto_columns": null,
            "grid_auto_flow": null,
            "grid_auto_rows": null,
            "grid_column": null,
            "grid_gap": null,
            "grid_row": null,
            "grid_template_areas": null,
            "grid_template_columns": null,
            "grid_template_rows": null,
            "height": null,
            "justify_content": null,
            "justify_items": null,
            "left": null,
            "margin": null,
            "max_height": null,
            "max_width": null,
            "min_height": null,
            "min_width": null,
            "object_fit": null,
            "object_position": null,
            "order": null,
            "overflow": null,
            "overflow_x": null,
            "overflow_y": null,
            "padding": null,
            "right": null,
            "top": null,
            "visibility": null,
            "width": null
          }
        },
        "9efa5cabe8e44adab9471afc93ab846b": {
          "model_module": "@jupyter-widgets/base",
          "model_module_version": "1.2.0",
          "model_name": "LayoutModel",
          "state": {
            "_model_module": "@jupyter-widgets/base",
            "_model_module_version": "1.2.0",
            "_model_name": "LayoutModel",
            "_view_count": null,
            "_view_module": "@jupyter-widgets/base",
            "_view_module_version": "1.2.0",
            "_view_name": "LayoutView",
            "align_content": null,
            "align_items": null,
            "align_self": null,
            "border": null,
            "bottom": null,
            "display": null,
            "flex": null,
            "flex_flow": null,
            "grid_area": null,
            "grid_auto_columns": null,
            "grid_auto_flow": null,
            "grid_auto_rows": null,
            "grid_column": null,
            "grid_gap": null,
            "grid_row": null,
            "grid_template_areas": null,
            "grid_template_columns": null,
            "grid_template_rows": null,
            "height": null,
            "justify_content": null,
            "justify_items": null,
            "left": null,
            "margin": null,
            "max_height": null,
            "max_width": null,
            "min_height": null,
            "min_width": null,
            "object_fit": null,
            "object_position": null,
            "order": null,
            "overflow": null,
            "overflow_x": null,
            "overflow_y": null,
            "padding": null,
            "right": null,
            "top": null,
            "visibility": null,
            "width": null
          }
        },
        "a474a544694348cc891d6d016a57b389": {
          "model_module": "@jupyter-widgets/controls",
          "model_module_version": "1.5.0",
          "model_name": "HTMLModel",
          "state": {
            "_dom_classes": [],
            "_model_module": "@jupyter-widgets/controls",
            "_model_module_version": "1.5.0",
            "_model_name": "HTMLModel",
            "_view_count": null,
            "_view_module": "@jupyter-widgets/controls",
            "_view_module_version": "1.5.0",
            "_view_name": "HTMLView",
            "description": "",
            "description_tooltip": null,
            "layout": "IPY_MODEL_4c05735dffc6448d893a1cb56dac3900",
            "placeholder": "​",
            "style": "IPY_MODEL_06c989a3b8ec4611aa7ffa4b29834f58",
            "value": " 233M/233M [00:02&lt;00:00, 95.8MB/s]"
          }
        },
        "c5bb84b2e1084db1a07fb87f16a8f00d": {
          "model_module": "@jupyter-widgets/controls",
          "model_module_version": "1.5.0",
          "model_name": "ProgressStyleModel",
          "state": {
            "_model_module": "@jupyter-widgets/controls",
            "_model_module_version": "1.5.0",
            "_model_name": "ProgressStyleModel",
            "_view_count": null,
            "_view_module": "@jupyter-widgets/base",
            "_view_module_version": "1.2.0",
            "_view_name": "StyleView",
            "bar_color": null,
            "description_width": ""
          }
        },
        "f5e3c56db86d49a39a2e3a6b073135b8": {
          "model_module": "@jupyter-widgets/base",
          "model_module_version": "1.2.0",
          "model_name": "LayoutModel",
          "state": {
            "_model_module": "@jupyter-widgets/base",
            "_model_module_version": "1.2.0",
            "_model_name": "LayoutModel",
            "_view_count": null,
            "_view_module": "@jupyter-widgets/base",
            "_view_module_version": "1.2.0",
            "_view_name": "LayoutView",
            "align_content": null,
            "align_items": null,
            "align_self": null,
            "border": null,
            "bottom": null,
            "display": null,
            "flex": null,
            "flex_flow": null,
            "grid_area": null,
            "grid_auto_columns": null,
            "grid_auto_flow": null,
            "grid_auto_rows": null,
            "grid_column": null,
            "grid_gap": null,
            "grid_row": null,
            "grid_template_areas": null,
            "grid_template_columns": null,
            "grid_template_rows": null,
            "height": null,
            "justify_content": null,
            "justify_items": null,
            "left": null,
            "margin": null,
            "max_height": null,
            "max_width": null,
            "min_height": null,
            "min_width": null,
            "object_fit": null,
            "object_position": null,
            "order": null,
            "overflow": null,
            "overflow_x": null,
            "overflow_y": null,
            "padding": null,
            "right": null,
            "top": null,
            "visibility": null,
            "width": null
          }
        }
      }
    }
  },
  "nbformat": 4,
  "nbformat_minor": 0
}
